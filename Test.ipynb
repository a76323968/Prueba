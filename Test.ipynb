{
 "cells": [
  {
   "cell_type": "markdown",
   "id": "38d6ab88-3653-4fe7-b9fa-b61a7555227b",
   "metadata": {},
   "source": [
    "# primer código"
   ]
  },
  {
   "cell_type": "code",
   "execution_count": null,
   "id": "7ea3da7d-d2ed-483b-aef3-b4225c6024df",
   "metadata": {},
   "outputs": [],
   "source": [
    "x=10\n",
    "y=20\n",
    "z=x+y"
   ]
  },
  {
   "cell_type": "code",
   "execution_count": 2,
   "id": "dcdd48fc-e7b3-4300-9dba-dcd7492ff24c",
   "metadata": {},
   "outputs": [
    {
     "data": {
      "text/plain": [
       "30"
      ]
     },
     "execution_count": 2,
     "metadata": {},
     "output_type": "execute_result"
    }
   ],
   "source": [
    "z"
   ]
  },
  {
   "cell_type": "code",
   "execution_count": null,
   "id": "63ac27d7-b7d2-4bb5-8c10-a6cb5b69d5d8",
   "metadata": {},
   "outputs": [],
   "source": []
  }
 ],
 "metadata": {
  "kernelspec": {
   "display_name": "Python 3 (ipykernel)",
   "language": "python",
   "name": "python3"
  },
  "language_info": {
   "codemirror_mode": {
    "name": "ipython",
    "version": 3
   },
   "file_extension": ".py",
   "mimetype": "text/x-python",
   "name": "python",
   "nbconvert_exporter": "python",
   "pygments_lexer": "ipython3",
   "version": "3.11.7"
  }
 },
 "nbformat": 4,
 "nbformat_minor": 5
}
