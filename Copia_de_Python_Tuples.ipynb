{
  "cells": [
    {
      "cell_type": "markdown",
      "metadata": {
        "id": "6TqYtxaftWhf"
      },
      "source": [
        "<a target=\"_blank\" href=\"https://colab.research.google.com/github/PythonVersusR/basicDataStructures_tuples/blob/main/Python_Tuples.ipynb\">\n",
        "  <img src=\"https://colab.research.google.com/assets/colab-badge.svg\" alt=\"Open In Colab\"/>\n",
        "</a>\n",
        "\n",
        "#  **TUPLES --Alejandro Huaman-20203800**\n",
        "\n",
        "Tuples are inmutable structures in Python, they look like lists but do not share much of their functionality:"
      ]
    },
    {
      "cell_type": "code",
      "execution_count": null,
      "metadata": {
        "id": "xcBxNtLDtWhg"
      },
      "outputs": [],
      "source": [
        "seasons=\"Summer\", \"Autumn\", \"Spring\", \"Winter\""
      ]
    },
    {
      "cell_type": "code",
      "execution_count": null,
      "metadata": {
        "id": "i8YTGmf5jWz2",
        "colab": {
          "base_uri": "https://localhost:8080/"
        },
        "outputId": "26e7c4a8-2eb4-4d98-fbb1-6d8521df7319"
      },
      "outputs": [
        {
          "output_type": "execute_result",
          "data": {
            "text/plain": [
              "tuple"
            ]
          },
          "metadata": {},
          "execution_count": 4
        }
      ],
      "source": [
        "type(seasons)"
      ]
    },
    {
      "cell_type": "markdown",
      "metadata": {
        "id": "ii6lRXlZtWhj"
      },
      "source": [
        "You can access:"
      ]
    },
    {
      "cell_type": "code",
      "execution_count": null,
      "metadata": {
        "id": "QtVsil3CtWhj",
        "colab": {
          "base_uri": "https://localhost:8080/",
          "height": 35
        },
        "outputId": "bb7f1af5-194b-469e-f4e3-0a6805a0d531"
      },
      "outputs": [
        {
          "output_type": "execute_result",
          "data": {
            "text/plain": [
              "'Summer'"
            ],
            "application/vnd.google.colaboratory.intrinsic+json": {
              "type": "string"
            }
          },
          "metadata": {},
          "execution_count": 5
        }
      ],
      "source": [
        "seasons[0]"
      ]
    },
    {
      "cell_type": "markdown",
      "metadata": {
        "id": "9VyDiWG0tWhn"
      },
      "source": [
        "But no other operation is allowed:"
      ]
    },
    {
      "cell_type": "code",
      "execution_count": null,
      "metadata": {
        "id": "knEfvHt2Je_k",
        "colab": {
          "base_uri": "https://localhost:8080/",
          "height": 175
        },
        "outputId": "5db1674b-d18d-474b-cd6d-59749e8a9593"
      },
      "outputs": [
        {
          "output_type": "error",
          "ename": "TypeError",
          "evalue": "'tuple' object doesn't support item deletion",
          "traceback": [
            "\u001b[0;31m---------------------------------------------------------------------------\u001b[0m",
            "\u001b[0;31mTypeError\u001b[0m                                 Traceback (most recent call last)",
            "\u001b[0;32m<ipython-input-6-880eb647447f>\u001b[0m in \u001b[0;36m<cell line: 1>\u001b[0;34m()\u001b[0m\n\u001b[0;32m----> 1\u001b[0;31m \u001b[0;32mdel\u001b[0m \u001b[0mseasons\u001b[0m\u001b[0;34m[\u001b[0m\u001b[0;36m0\u001b[0m\u001b[0;34m]\u001b[0m \u001b[0;31m#ejemplo de que no se puede aplicar del\u001b[0m\u001b[0;34m\u001b[0m\u001b[0;34m\u001b[0m\u001b[0m\n\u001b[0m",
            "\u001b[0;31mTypeError\u001b[0m: 'tuple' object doesn't support item deletion"
          ]
        }
      ],
      "source": [
        "del seasons[0] #ejemplo de que no se puede aplicar del"
      ]
    },
    {
      "cell_type": "code",
      "execution_count": null,
      "metadata": {
        "id": "I2sT23Y1JmKI"
      },
      "outputs": [],
      "source": [
        "seasons[0]='Summer'"
      ]
    },
    {
      "cell_type": "code",
      "execution_count": null,
      "metadata": {
        "id": "FegD3iFmJwDv",
        "colab": {
          "base_uri": "https://localhost:8080/",
          "height": 175
        },
        "outputId": "93039c18-f6d4-4033-c073-b03228c745a6"
      },
      "outputs": [
        {
          "output_type": "error",
          "ename": "TypeError",
          "evalue": "'tuple' object does not support item assignment",
          "traceback": [
            "\u001b[0;31m---------------------------------------------------------------------------\u001b[0m",
            "\u001b[0;31mTypeError\u001b[0m                                 Traceback (most recent call last)",
            "\u001b[0;32m<ipython-input-9-d6fa125e1a71>\u001b[0m in \u001b[0;36m<cell line: 1>\u001b[0;34m()\u001b[0m\n\u001b[0;32m----> 1\u001b[0;31m \u001b[0mseasons\u001b[0m\u001b[0;34m[\u001b[0m\u001b[0;36m4\u001b[0m\u001b[0;34m]\u001b[0m\u001b[0;34m=\u001b[0m\u001b[0;34m'Inviverano'\u001b[0m\u001b[0;34m\u001b[0m\u001b[0;34m\u001b[0m\u001b[0m\n\u001b[0m",
            "\u001b[0;31mTypeError\u001b[0m: 'tuple' object does not support item assignment"
          ]
        }
      ],
      "source": [
        "seasons[4]='Inviverano'"
      ]
    },
    {
      "cell_type": "markdown",
      "metadata": {
        "id": "j70EnHTHKL4k"
      },
      "source": [
        "You can concatenate two tuples into a new one:"
      ]
    },
    {
      "cell_type": "code",
      "execution_count": null,
      "metadata": {
        "id": "JjWqrH2LJ-SE",
        "colab": {
          "base_uri": "https://localhost:8080/"
        },
        "outputId": "521983cc-ecb2-4d50-c428-40fb0de762b0"
      },
      "outputs": [
        {
          "output_type": "execute_result",
          "data": {
            "text/plain": [
              "('Verano', 'Invierno', 'Primavera', 'Otoño')"
            ]
          },
          "metadata": {},
          "execution_count": 7
        }
      ],
      "source": [
        "Estaciones='Verano','Invierno', 'Primavera', 'Otoño'\n",
        "Estaciones"
      ]
    },
    {
      "cell_type": "code",
      "execution_count": null,
      "metadata": {
        "id": "0Xl7NrbuKKvu",
        "colab": {
          "base_uri": "https://localhost:8080/"
        },
        "outputId": "f3c88d49-7435-4868-93e4-ea84c85d026c"
      },
      "outputs": [
        {
          "output_type": "execute_result",
          "data": {
            "text/plain": [
              "('Summer',\n",
              " 'Autumn',\n",
              " 'Spring',\n",
              " 'Winter',\n",
              " 'Verano',\n",
              " 'Invierno',\n",
              " 'Primavera',\n",
              " 'Otoño')"
            ]
          },
          "metadata": {},
          "execution_count": 8
        }
      ],
      "source": [
        "Tuplas=seasons + Estaciones\n",
        "Tuplas"
      ]
    },
    {
      "cell_type": "markdown",
      "metadata": {
        "id": "QOLRbmojKcAl"
      },
      "source": [
        "But it has not altered any previous tuple."
      ]
    }
  ],
  "metadata": {
    "anaconda-cloud": {
      "attach-environment": true,
      "summary": "test"
    },
    "colab": {
      "provenance": []
    },
    "hide_input": false,
    "kernelspec": {
      "display_name": "Python 3 (ipykernel)",
      "language": "python",
      "name": "python3"
    },
    "language_info": {
      "codemirror_mode": {
        "name": "ipython",
        "version": 3
      },
      "file_extension": ".py",
      "mimetype": "text/x-python",
      "name": "python",
      "nbconvert_exporter": "python",
      "pygments_lexer": "ipython3",
      "version": "3.12.0"
    }
  },
  "nbformat": 4,
  "nbformat_minor": 0
}