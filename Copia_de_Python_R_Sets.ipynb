{
  "cells": [
    {
      "cell_type": "markdown",
      "metadata": {
        "id": "M0tUSB6jfKEt"
      },
      "source": [
        "<img src=\"https://i.imgur.com/6U6q5jQ.png\"/>\n",
        "\n",
        "\n",
        "<a target=\"_blank\" href=\"https://colab.research.google.com/github/PythonVersusR/basicDataStructures_sets/blob/main/Python_R_Sets.ipynb\">\n",
        "  <img src=\"https://colab.research.google.com/assets/colab-badge.svg\" alt=\"Open In Colab\"/>\n",
        "</a>\n",
        "\n",
        "# Sets in Python-Alejandro Huaman--20203800"
      ]
    },
    {
      "cell_type": "code",
      "execution_count": null,
      "metadata": {
        "id": "bmsvt0HIfKE2"
      },
      "outputs": [],
      "source": [
        "## if needed, run this and RESTART KERNEL\n",
        "import os\n",
        "os.environ['R_HOME'] ='/Library/Frameworks/R.framework/Resources'"
      ]
    },
    {
      "cell_type": "code",
      "execution_count": null,
      "metadata": {
        "id": "_efl4FU7igh_",
        "colab": {
          "base_uri": "https://localhost:8080/"
        },
        "outputId": "a5ea591a-adc4-4cc2-8738-0b3dfd559c1c"
      },
      "outputs": [
        {
          "output_type": "stream",
          "name": "stdout",
          "text": [
            "The rpy2.ipython extension is already loaded. To reload it, use:\n",
            "  %reload_ext rpy2.ipython\n"
          ]
        }
      ],
      "source": [
        "%load_ext rpy2.ipython"
      ]
    },
    {
      "cell_type": "markdown",
      "metadata": {
        "id": "ix7xtYzM7GsE"
      },
      "source": [
        "## 1. Creating"
      ]
    },
    {
      "cell_type": "code",
      "execution_count": null,
      "metadata": {
        "id": "2ffBcMUO4W6D",
        "colab": {
          "base_uri": "https://localhost:8080/"
        },
        "outputId": "a7f43e1c-1c7f-4ff7-c073-056357cfcb12"
      },
      "outputs": [
        {
          "output_type": "execute_result",
          "data": {
            "text/plain": [
              "{1, 2, 3, 5, 8, 13, 21, 34}"
            ]
          },
          "metadata": {},
          "execution_count": 2
        }
      ],
      "source": [
        "aSet={1,2,3,5,8,13,21,34}\n",
        "\n",
        "# then\n",
        "aSet"
      ]
    },
    {
      "cell_type": "markdown",
      "metadata": {
        "id": "yBEwwScRd8IL"
      },
      "source": [
        "Notice that **sets** do not allow duplicates, and show ordering of values."
      ]
    },
    {
      "cell_type": "markdown",
      "metadata": {
        "id": "XW-l5zTaAonr"
      },
      "source": [
        "## 2. Accessing"
      ]
    },
    {
      "cell_type": "markdown",
      "metadata": {
        "id": "9WfrgZlD4bMn"
      },
      "source": [
        "You can not use indexes in sets."
      ]
    },
    {
      "cell_type": "code",
      "execution_count": null,
      "metadata": {
        "id": "KQrycQe_4hd2",
        "colab": {
          "base_uri": "https://localhost:8080/"
        },
        "outputId": "6e09949b-4a49-48ff-e399-f9871b9e7a21"
      },
      "outputs": [
        {
          "output_type": "execute_result",
          "data": {
            "text/plain": [
              "3"
            ]
          },
          "metadata": {},
          "execution_count": 13
        }
      ],
      "source": [
        "list(aSet)[2] #no se puede usar solo corchetes para buscar un valor de los Sets"
      ]
    },
    {
      "cell_type": "code",
      "execution_count": null,
      "metadata": {
        "id": "vY3DDSJs4mU2",
        "colab": {
          "base_uri": "https://localhost:8080/"
        },
        "outputId": "f1e39eb8-4e49-496a-b894-086d55eb9af6"
      },
      "outputs": [
        {
          "output_type": "execute_result",
          "data": {
            "text/plain": [
              "2"
            ]
          },
          "metadata": {},
          "execution_count": 8
        }
      ],
      "source": [
        "#debes agregar la palabra list antes:\n",
        "list(aSet)[1]"
      ]
    },
    {
      "cell_type": "markdown",
      "metadata": {
        "id": "lvVhUDHpBzhM"
      },
      "source": [
        "## 2. Replacing"
      ]
    },
    {
      "cell_type": "markdown",
      "metadata": {
        "id": "tfywvzW8j_8j"
      },
      "source": [
        "You would need to rewrite or delete/add an element:"
      ]
    },
    {
      "cell_type": "code",
      "execution_count": null,
      "metadata": {
        "id": "a8_TaUeaB-KL",
        "colab": {
          "base_uri": "https://localhost:8080/"
        },
        "outputId": "cc7c2c03-29c9-41ea-ddec-82938e42cfbf"
      },
      "outputs": [
        {
          "output_type": "execute_result",
          "data": {
            "text/plain": [
              "{121, 144, 169, 196}"
            ]
          },
          "metadata": {},
          "execution_count": 14
        }
      ],
      "source": [
        "# rewriting\n",
        "bSet={11,12,13,14}\n",
        "bSet=set(x**2 for x in bSet)\n",
        "bSet"
      ]
    },
    {
      "cell_type": "code",
      "execution_count": null,
      "metadata": {
        "id": "YJKl01mwkZBs",
        "colab": {
          "base_uri": "https://localhost:8080/"
        },
        "outputId": "6a822769-b615-4043-97cb-5aeeb3d301bd"
      },
      "outputs": [
        {
          "output_type": "execute_result",
          "data": {
            "text/plain": [
              "{'AL', 'CDM', 'SC'}"
            ]
          },
          "metadata": {},
          "execution_count": 32
        }
      ],
      "source": [
        "cSet={'AL','U','SC'}\n",
        "cSet.remove('U')\n",
        "cSet.add('CDM')\n",
        "cSet"
      ]
    },
    {
      "cell_type": "markdown",
      "metadata": {
        "id": "7zjqtGb8Ck6G"
      },
      "source": [
        "## 3. Deleting"
      ]
    },
    {
      "cell_type": "code",
      "execution_count": null,
      "metadata": {
        "id": "ZM9dCqCKlYmV"
      },
      "outputs": [],
      "source": [
        "dSet={22,23,28,'B','E','A'}\n",
        "dSet.remove(28) #remove no permite usar valores que no estén en los sets"
      ]
    },
    {
      "cell_type": "code",
      "execution_count": null,
      "metadata": {
        "id": "UxZ_sEJUlkuZ",
        "colab": {
          "base_uri": "https://localhost:8080/"
        },
        "outputId": "3e938634-8e33-4672-f789-e50b97595353"
      },
      "outputs": [
        {
          "output_type": "execute_result",
          "data": {
            "text/plain": [
              "{2006, 2014, 2018, 'A', 'F', 'I'}"
            ]
          },
          "metadata": {},
          "execution_count": 20
        }
      ],
      "source": [
        "dSet={2018,2006,2014,'F','I','A'}\n",
        "dSet.discard('ARG') #discard si permite usar cualquier valor, dentro o fuera de los sets\n",
        "dSet"
      ]
    },
    {
      "cell_type": "code",
      "execution_count": null,
      "metadata": {
        "id": "u93ck_VNmOlf",
        "colab": {
          "base_uri": "https://localhost:8080/"
        },
        "outputId": "304b449d-357e-45a8-bfc3-5568a9031700"
      },
      "outputs": [
        {
          "output_type": "execute_result",
          "data": {
            "text/plain": [
              "{14, 16, 18, 'ALE', 'POR'}"
            ]
          },
          "metadata": {},
          "execution_count": 24
        }
      ],
      "source": [
        "dSet={14,16,18,'ALE','POR','FRA'}\n",
        "toDelete = ['CHILE',15,'FRA']\n",
        "\n",
        "# keep what is not in toDelete\n",
        "dSet.difference_update(toDelete)\n",
        "dSet"
      ]
    },
    {
      "cell_type": "markdown",
      "metadata": {
        "id": "-jXtOW0eRUOT"
      },
      "source": [
        "Notice the diference for deleting a set:"
      ]
    },
    {
      "cell_type": "code",
      "execution_count": null,
      "metadata": {
        "id": "mjS6Ti1kRMa8",
        "colab": {
          "base_uri": "https://localhost:8080/"
        },
        "outputId": "ed3137ea-19b8-4da7-ac4c-f09c245304fb"
      },
      "outputs": [
        {
          "output_type": "execute_result",
          "data": {
            "text/plain": [
              "set()"
            ]
          },
          "metadata": {},
          "execution_count": 25
        }
      ],
      "source": [
        "dSet.clear()\n",
        "dSet #empty the set"
      ]
    },
    {
      "cell_type": "code",
      "execution_count": null,
      "metadata": {
        "id": "qzfaIy0kRScs"
      },
      "outputs": [],
      "source": [
        "cSet={'AL','U','SC'} #del elimina definitivamente\n",
        "del cSet"
      ]
    },
    {
      "cell_type": "markdown",
      "metadata": {
        "id": "dD0Lb3LJTWVp"
      },
      "source": [
        "## 5. Inserting"
      ]
    },
    {
      "cell_type": "code",
      "execution_count": null,
      "metadata": {
        "id": "bKuATgHzRchr",
        "colab": {
          "base_uri": "https://localhost:8080/"
        },
        "outputId": "87e0dd0a-55cf-4f22-b319-557c9b78fdfb"
      },
      "outputs": [
        {
          "output_type": "execute_result",
          "data": {
            "text/plain": [
              "{'A', 'E', 'L', 'RIA'}"
            ]
          },
          "metadata": {},
          "execution_count": 35
        }
      ],
      "source": [
        "cSet={'A','L','E'}\n",
        "cSet.update(('RIA'))\n",
        "cSet"
      ]
    },
    {
      "cell_type": "code",
      "execution_count": null,
      "metadata": {
        "id": "RtOSulXTTeSm",
        "colab": {
          "base_uri": "https://localhost:8080/"
        },
        "outputId": "8000896f-b878-4e89-c30c-7a8655af8e8b"
      },
      "outputs": [
        {
          "output_type": "execute_result",
          "data": {
            "text/plain": [
              "{'A', 'F', 'I', 'O', 'S'}"
            ]
          },
          "metadata": {},
          "execution_count": 36
        }
      ],
      "source": [
        "cSet={'S','O','F'}\n",
        "cSet.update(('I','A'))\n",
        "cSet"
      ]
    },
    {
      "cell_type": "markdown",
      "metadata": {
        "id": "CVGWKH2DRg4t"
      },
      "source": [
        "## Other operations"
      ]
    },
    {
      "cell_type": "markdown",
      "metadata": {
        "id": "XDvC3-PZR_f7"
      },
      "source": [
        "If we have these sets:"
      ]
    },
    {
      "cell_type": "code",
      "execution_count": null,
      "metadata": {
        "id": "QUOCC2LJSCqd"
      },
      "outputs": [],
      "source": [
        "set1={'I','M','S','U'}\n",
        "set2={2,3,5,7}\n",
        "set3={'AL',2,7,'MAN'}"
      ]
    },
    {
      "cell_type": "markdown",
      "metadata": {
        "id": "eiXgIvvJST7O"
      },
      "source": [
        "We could use:"
      ]
    },
    {
      "cell_type": "code",
      "execution_count": null,
      "metadata": {
        "id": "aNikvAJgRjl2",
        "colab": {
          "base_uri": "https://localhost:8080/"
        },
        "outputId": "6af22a15-f9d0-4d29-f18b-86a7095a7142"
      },
      "outputs": [
        {
          "output_type": "execute_result",
          "data": {
            "text/plain": [
              "{2, 3, 5, 7, 'I', 'M', 'S', 'U'}"
            ]
          },
          "metadata": {},
          "execution_count": 48
        }
      ],
      "source": [
        "# union\n",
        "set4=set1|set2\n",
        "set4"
      ]
    },
    {
      "cell_type": "code",
      "execution_count": null,
      "metadata": {
        "id": "trGF-kChSZn6",
        "colab": {
          "base_uri": "https://localhost:8080/"
        },
        "outputId": "f6c56721-c767-4f0c-b858-6aa1ef9f8acb"
      },
      "outputs": [
        {
          "output_type": "execute_result",
          "data": {
            "text/plain": [
              "set()"
            ]
          },
          "metadata": {},
          "execution_count": 49
        }
      ],
      "source": [
        "#intersection\n",
        "set5=set1&set3\n",
        "set5"
      ]
    },
    {
      "cell_type": "code",
      "execution_count": null,
      "metadata": {
        "id": "TZYrio8rSqnH",
        "colab": {
          "base_uri": "https://localhost:8080/"
        },
        "outputId": "178be2a2-82e3-4104-9d8d-a80f7c972b11"
      },
      "outputs": [
        {
          "output_type": "execute_result",
          "data": {
            "text/plain": [
              "{3, 5}"
            ]
          },
          "metadata": {},
          "execution_count": 50
        }
      ],
      "source": [
        "# difference:\n",
        "# set of all the elements to the left that are not present in the right\n",
        "set6=set2-set3\n",
        "set6\n"
      ]
    },
    {
      "cell_type": "code",
      "execution_count": null,
      "metadata": {
        "id": "aBj0u4JKT5SU",
        "colab": {
          "base_uri": "https://localhost:8080/"
        },
        "outputId": "c29a0cc9-5495-4a92-d7c0-c81576cebda3"
      },
      "outputs": [
        {
          "output_type": "execute_result",
          "data": {
            "text/plain": [
              "{3, 5, 'AL', 'MAN'}"
            ]
          },
          "metadata": {},
          "execution_count": 54
        }
      ],
      "source": [
        "# symmetric difference\n",
        "# set of elements that are either in the first set or the second set\n",
        "# but not in both.\n",
        "\n",
        "set7=set2^set3\n",
        "set7"
      ]
    },
    {
      "cell_type": "markdown",
      "metadata": {
        "id": "XYjPbmiGij69"
      },
      "source": [
        "# Sets in R\n",
        "\n",
        "R does not have a set data structure, but it has _set_ operations for vectors:"
      ]
    },
    {
      "cell_type": "code",
      "execution_count": null,
      "metadata": {
        "id": "MsBwt4EmXD0k"
      },
      "outputs": [],
      "source": [
        "%%R\n",
        "\n",
        "# some vectors\n",
        "\n",
        "set1R=c('B','A','S',20)\n",
        "set2R=c('A',12,13,'G')\n",
        "set3R=c('CDM',12,13,'TV')\n",
        "\n"
      ]
    },
    {
      "cell_type": "code",
      "execution_count": null,
      "metadata": {
        "id": "U_-grWqyXr4V",
        "colab": {
          "base_uri": "https://localhost:8080/"
        },
        "outputId": "a35b122d-b88d-4aae-f053-b94e2604bf2e"
      },
      "outputs": [
        {
          "output_type": "stream",
          "name": "stdout",
          "text": [
            "[1] \"B\"  \"A\"  \"S\"  \"20\" \"12\" \"13\" \"G\" \n"
          ]
        }
      ],
      "source": [
        "%%R\n",
        "\n",
        "union(set1R,set2R)"
      ]
    },
    {
      "cell_type": "code",
      "execution_count": null,
      "metadata": {
        "id": "JjGnulMAYivk",
        "colab": {
          "base_uri": "https://localhost:8080/"
        },
        "outputId": "905a1675-1345-4d81-fbd3-0aa60917fcd6"
      },
      "outputs": [
        {
          "output_type": "stream",
          "name": "stdout",
          "text": [
            "character(0)\n"
          ]
        }
      ],
      "source": [
        "%%R\n",
        "\n",
        "intersect(set1R,set3R)"
      ]
    },
    {
      "cell_type": "code",
      "execution_count": null,
      "metadata": {
        "id": "AIB2ZsMDYs5F",
        "colab": {
          "base_uri": "https://localhost:8080/"
        },
        "outputId": "96fc3129-4748-425f-ea2c-3a8cb75d76a2"
      },
      "outputs": [
        {
          "output_type": "stream",
          "name": "stdout",
          "text": [
            "[1] \"A\" \"G\"\n"
          ]
        }
      ],
      "source": [
        "%%R\n",
        "\n",
        "setdiff(set2R,set3R)"
      ]
    },
    {
      "cell_type": "code",
      "execution_count": null,
      "metadata": {
        "id": "vsMuiq-WZAH3",
        "colab": {
          "base_uri": "https://localhost:8080/"
        },
        "outputId": "ee8a785e-6c80-481d-9d1c-0ae4b7157544"
      },
      "outputs": [
        {
          "output_type": "stream",
          "name": "stdout",
          "text": [
            "[1] \"A\"   \"G\"   \"CDM\" \"TV\" \n"
          ]
        }
      ],
      "source": [
        "%%R\n",
        "\n",
        "#simmetric difference\n",
        "setdiff(union(set2R,set3R),intersect(set2R,set3R))"
      ]
    },
    {
      "cell_type": "markdown",
      "metadata": {
        "id": "qq3kTjOcaU6E"
      },
      "source": [
        "Notice set operations in R:"
      ]
    },
    {
      "cell_type": "code",
      "execution_count": null,
      "metadata": {
        "id": "Rh9unFxRZiDF",
        "colab": {
          "base_uri": "https://localhost:8080/"
        },
        "outputId": "ff135d79-f559-4d9d-ce27-7f7edb5526e6"
      },
      "outputs": [
        {
          "output_type": "stream",
          "name": "stdout",
          "text": [
            " [1] \"S\"   \"M\"   \"G\"   \"J\"   \"GER\" \"1\"   \"7\"   \"9\"   \"30\"  \"12\" \n"
          ]
        }
      ],
      "source": [
        "%%R\n",
        "\n",
        "set1R=c('S','M','G','J','GER') #not a set\n",
        "set2R=c(1,7,9,30,12)#not a set\n",
        "union(set1R,set2R) #si bien los 2 anteriores no son sets, el resultado si da un set"
      ]
    }
  ],
  "metadata": {
    "anaconda-cloud": {
      "attach-environment": true,
      "summary": "test"
    },
    "colab": {
      "collapsed_sections": [
        "ix7xtYzM7GsE",
        "XW-l5zTaAonr",
        "lvVhUDHpBzhM",
        "7zjqtGb8Ck6G",
        "dD0Lb3LJTWVp",
        "CVGWKH2DRg4t"
      ],
      "provenance": []
    },
    "hide_input": false,
    "kernelspec": {
      "display_name": "Python 3 (ipykernel)",
      "language": "python",
      "name": "python3"
    },
    "language_info": {
      "codemirror_mode": {
        "name": "ipython",
        "version": 3
      },
      "file_extension": ".py",
      "mimetype": "text/x-python",
      "name": "python",
      "nbconvert_exporter": "python",
      "pygments_lexer": "ipython3",
      "version": "3.12.0"
    }
  },
  "nbformat": 4,
  "nbformat_minor": 0
}