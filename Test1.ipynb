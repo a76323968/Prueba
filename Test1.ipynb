{
 "cells": [
  {
   "cell_type": "markdown",
   "id": "b1810d49-38f7-4f42-bc1a-af226b84cc19",
   "metadata": {},
   "source": [
    "# Primer Código"
   ]
  },
  {
   "cell_type": "code",
   "execution_count": 2,
   "id": "443635ac-a76f-4af7-987e-976ffbc631ef",
   "metadata": {},
   "outputs": [],
   "source": [
    "x=10\n",
    "y=20\n",
    "z=x+y"
   ]
  },
  {
   "cell_type": "code",
   "execution_count": 3,
   "id": "4da30aff-28fe-4022-a9d6-5b937587d783",
   "metadata": {},
   "outputs": [
    {
     "data": {
      "text/plain": [
       "30"
      ]
     },
     "execution_count": 3,
     "metadata": {},
     "output_type": "execute_result"
    }
   ],
   "source": [
    "z"
   ]
  },
  {
   "cell_type": "code",
   "execution_count": null,
   "id": "67dda971-05ac-494a-bdcc-aebaced34444",
   "metadata": {},
   "outputs": [],
   "source": []
  }
 ],
 "metadata": {
  "kernelspec": {
   "display_name": "Python 3 (ipykernel)",
   "language": "python",
   "name": "python3"
  },
  "language_info": {
   "codemirror_mode": {
    "name": "ipython",
    "version": 3
   },
   "file_extension": ".py",
   "mimetype": "text/x-python",
   "name": "python",
   "nbconvert_exporter": "python",
   "pygments_lexer": "ipython3",
   "version": "3.11.7"
  }
 },
 "nbformat": 4,
 "nbformat_minor": 5
}
