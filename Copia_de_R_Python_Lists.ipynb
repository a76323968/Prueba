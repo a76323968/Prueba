{
  "cells": [
    {
      "cell_type": "markdown",
      "metadata": {
        "id": "Bb5P9oBJtWgi"
      },
      "source": [
        "<a target=\"_blank\" href=\"https://colab.research.google.com/github/PythonVersusR/basicDataStructures_lists/blob/main/R_Python_Lists.ipynb\">\n",
        "  <img src=\"https://colab.research.google.com/assets/colab-badge.svg\" alt=\"Open In Colab\"/>\n",
        "</a>\n",
        "\n",
        "\n",
        "# Lists in R and Python-- Alejandro Huaman / 20203800"
      ]
    },
    {
      "cell_type": "code",
      "execution_count": null,
      "metadata": {
        "id": "CQ0-6XdK5Sre"
      },
      "outputs": [],
      "source": [
        "## if needed, run this and RESTART KERNEL\n",
        "# import os\n",
        "# os.environ['R_HOME'] ='/Library/Frameworks/R.framework/Resources'"
      ]
    },
    {
      "cell_type": "code",
      "execution_count": null,
      "metadata": {
        "id": "oo3FOXWP6ewM",
        "colab": {
          "base_uri": "https://localhost:8080/"
        },
        "outputId": "841bb4d3-258d-48e9-f8a8-0b162967ffbe"
      },
      "outputs": [
        {
          "output_type": "stream",
          "name": "stdout",
          "text": [
            "The rpy2.ipython extension is already loaded. To reload it, use:\n",
            "  %reload_ext rpy2.ipython\n"
          ]
        }
      ],
      "source": [
        "%load_ext rpy2.ipython"
      ]
    },
    {
      "cell_type": "markdown",
      "metadata": {
        "id": "ix7xtYzM7GsE"
      },
      "source": [
        "## 1. Creating"
      ]
    },
    {
      "cell_type": "code",
      "execution_count": null,
      "metadata": {
        "id": "GHJeUsWetWgm"
      },
      "outputs": [],
      "source": [
        "namesP=[\"Gloria\", \"Wilhelm\", \"Natasha\", \"Rafael\",\"Harry\",\"Sadio\",\"Rajesh\",\"Carlos\"]\n",
        "agesP=[20,17,30,25,29,30,35,70]\n",
        "countryP=[\"Perú\", \"Suecia\", \"Rusia\", \"Colombia\",\"Inglaterra\",\"Senegal\",\"India\",\"España\"]\n",
        "civil_estatusP=[\"Casada\", \"Soltero\", \"Soltero\", \"Casado\",\"Viudo\", \"Casado\",\"Soltero\",\"Casado\"]"
      ]
    },
    {
      "cell_type": "code",
      "source": [
        "type(namesP)"
      ],
      "metadata": {
        "id": "pzNuC2s8IHlH",
        "colab": {
          "base_uri": "https://localhost:8080/"
        },
        "outputId": "5c4def43-c5d4-4bd6-8862-31e9c5670e1e"
      },
      "execution_count": null,
      "outputs": [
        {
          "output_type": "execute_result",
          "data": {
            "text/plain": [
              "list"
            ]
          },
          "metadata": {},
          "execution_count": 13
        }
      ]
    },
    {
      "cell_type": "code",
      "source": [
        "namesP"
      ],
      "metadata": {
        "id": "qZEtF4B9Jx3m",
        "colab": {
          "base_uri": "https://localhost:8080/"
        },
        "outputId": "8e7377d1-0ee2-4eab-9629-3cde117c2194"
      },
      "execution_count": null,
      "outputs": [
        {
          "output_type": "execute_result",
          "data": {
            "text/plain": [
              "['Gloria',\n",
              " 'Wilhelm',\n",
              " 'Natasha',\n",
              " 'Rafael',\n",
              " 'Harry',\n",
              " 'Sadio',\n",
              " 'Rajesh',\n",
              " 'Carlos']"
            ]
          },
          "metadata": {},
          "execution_count": 14
        }
      ]
    },
    {
      "cell_type": "code",
      "execution_count": null,
      "metadata": {
        "id": "dUxYQK6F5lks"
      },
      "outputs": [],
      "source": [
        "%%R\n",
        "namesR=list(\"Gloria\", \"Wilhem\", \"Natasha\", \"Rafael\",\"Harry\",\"Sadio\",\"Rajesh\",\"Carlos\")\n",
        "agesR=list(20,17,30,25,29,30,35,70)\n",
        "countryR=list(\"Perú\", \"Suecia\", \"Rusia\", \"Colombia\",\"Inglaterra\",\"Senegal\",\"India\",\"España\")\n",
        "civil_estatusR=list(\"Casada\", \"Soltero\", \"Soltero\", \"Casado\",\"Viudo\", \"Casado\",\"Soltero\",\"Casado\")"
      ]
    },
    {
      "cell_type": "code",
      "execution_count": null,
      "metadata": {
        "id": "RSJyun677gMs",
        "colab": {
          "base_uri": "https://localhost:8080/"
        },
        "outputId": "f53dfbee-969c-45ee-aae1-9900a5b45456"
      },
      "outputs": [
        {
          "output_type": "stream",
          "name": "stdout",
          "text": [
            "[1] \"list\"\n"
          ]
        }
      ],
      "source": [
        "%%R\n",
        "typeof(namesR)"
      ]
    },
    {
      "cell_type": "code",
      "execution_count": null,
      "metadata": {
        "id": "9h7K4xpm6lzE",
        "colab": {
          "base_uri": "https://localhost:8080/"
        },
        "outputId": "c29688fa-c89d-4925-ba26-efe126389e14"
      },
      "outputs": [
        {
          "output_type": "stream",
          "name": "stdout",
          "text": [
            "[[1]]\n",
            "[1] \"Gloria\"\n",
            "\n",
            "[[2]]\n",
            "[1] \"Wilhem\"\n",
            "\n",
            "[[3]]\n",
            "[1] \"Natasha\"\n",
            "\n",
            "[[4]]\n",
            "[1] \"Rafael\"\n",
            "\n",
            "[[5]]\n",
            "[1] \"Harry\"\n",
            "\n",
            "[[6]]\n",
            "[1] \"Sadio\"\n",
            "\n",
            "[[7]]\n",
            "[1] \"Rajesh\"\n",
            "\n",
            "[[8]]\n",
            "[1] \"Carlos\"\n",
            "\n"
          ]
        }
      ],
      "source": [
        "%%R\n",
        "namesR"
      ]
    },
    {
      "cell_type": "markdown",
      "metadata": {
        "id": "_y7hce_8tWgr"
      },
      "source": [
        "## 2. Accessing"
      ]
    },
    {
      "cell_type": "code",
      "execution_count": null,
      "metadata": {
        "id": "Hp4CogsCtWgr",
        "colab": {
          "base_uri": "https://localhost:8080/"
        },
        "outputId": "c7b94cf8-de59-4aef-b6c1-e214f7131ffc"
      },
      "outputs": [
        {
          "output_type": "execute_result",
          "data": {
            "text/plain": [
              "20"
            ]
          },
          "metadata": {},
          "execution_count": 159
        }
      ],
      "source": [
        "# las posiciones en python comienzan en 0\n",
        "agesP[0]"
      ]
    },
    {
      "cell_type": "code",
      "execution_count": null,
      "metadata": {
        "id": "LcIBAZEr7ml_",
        "colab": {
          "base_uri": "https://localhost:8080/"
        },
        "outputId": "ffa4787b-6635-4462-bc94-b5fd11952c19"
      },
      "outputs": [
        {
          "output_type": "execute_result",
          "data": {
            "text/plain": [
              "int"
            ]
          },
          "metadata": {},
          "execution_count": 160
        }
      ],
      "source": [
        "type(agesP[0])"
      ]
    },
    {
      "cell_type": "code",
      "execution_count": null,
      "metadata": {
        "id": "bZalkSyg7ozY",
        "colab": {
          "base_uri": "https://localhost:8080/"
        },
        "outputId": "136c3028-4fdb-46cf-cdd9-8b40a8db3c67"
      },
      "outputs": [
        {
          "output_type": "stream",
          "name": "stdout",
          "text": [
            "[1] 20\n"
          ]
        }
      ],
      "source": [
        "%%R\n",
        "agesR[[1]]"
      ]
    },
    {
      "cell_type": "code",
      "execution_count": null,
      "metadata": {
        "id": "Z_DmJ2Cj7qic",
        "colab": {
          "base_uri": "https://localhost:8080/"
        },
        "outputId": "24a3b10f-c4f3-4414-fce3-f0345a3cb60b"
      },
      "outputs": [
        {
          "output_type": "stream",
          "name": "stdout",
          "text": [
            "[1] \"double\"\n"
          ]
        }
      ],
      "source": [
        "%%R\n",
        "typeof(agesR[[1]])"
      ]
    },
    {
      "cell_type": "code",
      "execution_count": null,
      "metadata": {
        "id": "hvaThvo_8-ZB",
        "colab": {
          "base_uri": "https://localhost:8080/"
        },
        "outputId": "603ae290-3288-4535-9c12-5b13270bbd51"
      },
      "outputs": [
        {
          "output_type": "stream",
          "name": "stdout",
          "text": [
            "[[1]]\n",
            "[1] 20\n",
            "\n"
          ]
        }
      ],
      "source": [
        "%%R\n",
        "agesR[1]"
      ]
    },
    {
      "cell_type": "code",
      "execution_count": null,
      "metadata": {
        "id": "1tUwi0-M82fp",
        "colab": {
          "base_uri": "https://localhost:8080/"
        },
        "outputId": "f40a546b-1a0e-42bb-cec5-07dface8f25a"
      },
      "outputs": [
        {
          "output_type": "stream",
          "name": "stdout",
          "text": [
            "[1] \"list\"\n"
          ]
        }
      ],
      "source": [
        "%%R\n",
        "typeof(agesR[1])"
      ]
    },
    {
      "cell_type": "code",
      "execution_count": null,
      "metadata": {
        "id": "MuQtAvsH-rJw",
        "colab": {
          "base_uri": "https://localhost:8080/",
          "height": 35
        },
        "outputId": "d08af2fc-ddec-404f-f744-0000e81594bc"
      },
      "outputs": [
        {
          "output_type": "execute_result",
          "data": {
            "text/plain": [
              "'India'"
            ],
            "application/vnd.google.colaboratory.intrinsic+json": {
              "type": "string"
            }
          },
          "metadata": {},
          "execution_count": 165
        }
      ],
      "source": [
        "#penultimo elemento\n",
        "countryP[-2]"
      ]
    },
    {
      "cell_type": "code",
      "execution_count": null,
      "metadata": {
        "id": "Ffzl7qci-yzx",
        "colab": {
          "base_uri": "https://localhost:8080/"
        },
        "outputId": "1ab24aff-7104-4d2b-fbf2-9307efe196cf"
      },
      "outputs": [
        {
          "output_type": "stream",
          "name": "stdout",
          "text": [
            "[[1]]\n",
            "[1] \"India\"\n",
            "\n",
            "[[2]]\n",
            "[1] \"España\"\n",
            "\n"
          ]
        }
      ],
      "source": [
        "%%R\n",
        "tail(countryR,2)"
      ]
    },
    {
      "cell_type": "markdown",
      "metadata": {
        "id": "hAq14dMo8TnG"
      },
      "source": [
        "### Slices"
      ]
    },
    {
      "cell_type": "code",
      "execution_count": null,
      "metadata": {
        "id": "pa7c_1M1tWgv",
        "colab": {
          "base_uri": "https://localhost:8080/"
        },
        "outputId": "bb7f45e8-742e-4746-f39f-efda20552983"
      },
      "outputs": [
        {
          "output_type": "execute_result",
          "data": {
            "text/plain": [
              "[30, 25, 29, 30, 35]"
            ]
          },
          "metadata": {},
          "execution_count": 167
        }
      ],
      "source": [
        "# consecutive\n",
        "agesP[2:7] #segundo al séptimo"
      ]
    },
    {
      "cell_type": "code",
      "execution_count": null,
      "metadata": {
        "id": "AF942YnF8yc9",
        "colab": {
          "base_uri": "https://localhost:8080/"
        },
        "outputId": "3526aca4-897a-4033-f406-347575015569"
      },
      "outputs": [
        {
          "output_type": "stream",
          "name": "stdout",
          "text": [
            "[[1]]\n",
            "[1] 17\n",
            "\n",
            "[[2]]\n",
            "[1] 30\n",
            "\n",
            "[[3]]\n",
            "[1] 25\n",
            "\n"
          ]
        }
      ],
      "source": [
        "%%R\n",
        "agesR[2:4]"
      ]
    },
    {
      "cell_type": "code",
      "execution_count": null,
      "metadata": {
        "id": "XSO50xLN9MZB",
        "colab": {
          "base_uri": "https://localhost:8080/"
        },
        "outputId": "1770795a-83e9-40f7-9122-4258986af2b2"
      },
      "outputs": [
        {
          "output_type": "execute_result",
          "data": {
            "text/plain": [
              "[17, 29, 70]"
            ]
          },
          "metadata": {},
          "execution_count": 169
        }
      ],
      "source": [
        "# Números no consecutivos según intervalos\n",
        "agesP[1:8:3] # uno al ocho en intervalos de 3 en 3"
      ]
    },
    {
      "cell_type": "code",
      "execution_count": null,
      "metadata": {
        "id": "J5V5_Cxl_Avj",
        "colab": {
          "base_uri": "https://localhost:8080/"
        },
        "outputId": "908ec081-7d82-4420-e41e-9ad383faf6a1"
      },
      "outputs": [
        {
          "output_type": "stream",
          "name": "stdout",
          "text": [
            "[[1]]\n",
            "[1] 20\n",
            "\n",
            "[[2]]\n",
            "[1] 30\n",
            "\n",
            "[[3]]\n",
            "[1] 29\n",
            "\n",
            "[[4]]\n",
            "[1] 35\n",
            "\n"
          ]
        }
      ],
      "source": [
        "%%R\n",
        "agesR[seq(1,8,2)] #secuencia del primero al octavo de 2 en 2"
      ]
    },
    {
      "cell_type": "code",
      "execution_count": null,
      "metadata": {
        "id": "p8h88eUjtWg1",
        "colab": {
          "base_uri": "https://localhost:8080/"
        },
        "outputId": "96201fcf-0237-4d16-fc2a-3a1eacfa3bac"
      },
      "outputs": [
        {
          "output_type": "execute_result",
          "data": {
            "text/plain": [
              "['Gloria', 'Harry', 'Rafael']"
            ]
          },
          "metadata": {},
          "execution_count": 171
        }
      ],
      "source": [
        "# elegir los elementos de la 1era linea según la definión de la 2da linea\n",
        "keepIndex=[0, 4, 3]\n",
        "[namesP[i] for i in keepIndex]\n"
      ]
    },
    {
      "cell_type": "code",
      "execution_count": null,
      "metadata": {
        "id": "c8RpFx1dAEmz",
        "colab": {
          "base_uri": "https://localhost:8080/"
        },
        "outputId": "dae188c7-9386-46e0-8d0e-32e367619a60"
      },
      "outputs": [
        {
          "output_type": "stream",
          "name": "stdout",
          "text": [
            "[[1]]\n",
            "[1] 20\n",
            "\n",
            "[[2]]\n",
            "[1] 25\n",
            "\n",
            "[[3]]\n",
            "[1] 30\n",
            "\n"
          ]
        }
      ],
      "source": [
        "%%R\n",
        "agesR[c(1,4,3)]"
      ]
    },
    {
      "cell_type": "markdown",
      "metadata": {
        "id": "3HdLpDektWg6"
      },
      "source": [
        "## Replacing"
      ]
    },
    {
      "cell_type": "markdown",
      "metadata": {
        "id": "W9tJhxjeBMyX"
      },
      "source": [
        "### by Position"
      ]
    },
    {
      "cell_type": "code",
      "execution_count": null,
      "metadata": {
        "id": "Q5mtP1j8tWg7",
        "colab": {
          "base_uri": "https://localhost:8080/"
        },
        "outputId": "ca7b0016-f5f3-456e-d9ce-3a388d018a30"
      },
      "outputs": [
        {
          "output_type": "execute_result",
          "data": {
            "text/plain": [
              "['Perú',\n",
              " 'Suecia',\n",
              " 'Rusia',\n",
              " 'Colombia',\n",
              " 'Inglaterra',\n",
              " 'Senegal',\n",
              " 'BHARAT',\n",
              " 'España']"
            ]
          },
          "metadata": {},
          "execution_count": 173
        }
      ],
      "source": [
        "countryP[6]=\"BHARAT\"\n",
        "\n",
        "# list changed:\n",
        "countryP"
      ]
    },
    {
      "cell_type": "code",
      "execution_count": null,
      "metadata": {
        "id": "Bq1cr1VPBRJz",
        "colab": {
          "base_uri": "https://localhost:8080/"
        },
        "outputId": "a0401205-2eeb-4881-cdc6-71b6ddc861b6"
      },
      "outputs": [
        {
          "output_type": "stream",
          "name": "stdout",
          "text": [
            "[[1]]\n",
            "[1] \"Perú\"\n",
            "\n",
            "[[2]]\n",
            "[1] \"Suecia\"\n",
            "\n",
            "[[3]]\n",
            "[1] \"Rusia\"\n",
            "\n",
            "[[4]]\n",
            "[1] \"nike\"\n",
            "\n",
            "[[5]]\n",
            "[1] \"Inglaterra\"\n",
            "\n",
            "[[6]]\n",
            "[1] \"Senegal\"\n",
            "\n",
            "[[7]]\n",
            "[1] \"India\"\n",
            "\n",
            "[[8]]\n",
            "[1] \"España\"\n",
            "\n"
          ]
        }
      ],
      "source": [
        "%%R\n",
        "countryR[[4]]=\"nike\"\n",
        "\n",
        "# list changed:\n",
        "countryR"
      ]
    },
    {
      "cell_type": "markdown",
      "metadata": {
        "id": "i3KudD3Don96"
      },
      "source": [
        "### By Value"
      ]
    },
    {
      "cell_type": "code",
      "execution_count": null,
      "metadata": {
        "id": "Nf9PJWMjqiNI"
      },
      "outputs": [],
      "source": [
        "\n",
        "countryP[countryP=='Perú']=\"INCAS\""
      ]
    },
    {
      "cell_type": "code",
      "execution_count": null,
      "metadata": {
        "id": "ZozgXyECpjy2",
        "colab": {
          "base_uri": "https://localhost:8080/"
        },
        "outputId": "5d40d654-1464-4e5d-a5d3-c829fc53fd77"
      },
      "outputs": [
        {
          "output_type": "stream",
          "name": "stdout",
          "text": [
            "[[1]]\n",
            "[1] \"Perú\"\n",
            "\n",
            "[[2]]\n",
            "[1] \"Suecia\"\n",
            "\n",
            "[[3]]\n",
            "[1] \"Rusia\"\n",
            "\n",
            "[[4]]\n",
            "[1] \"nike\"\n",
            "\n",
            "[[5]]\n",
            "[1] \"Inglaterra\"\n",
            "\n",
            "[[6]]\n",
            "[1] \"Senegal\"\n",
            "\n",
            "[[7]]\n",
            "[1] \"Chile\"\n",
            "\n",
            "[[8]]\n",
            "[1] \"España\"\n",
            "\n"
          ]
        }
      ],
      "source": [
        "%%R\n",
        "countryR[countryR=='India']=\"Chile\"\n",
        "countryR"
      ]
    },
    {
      "cell_type": "markdown",
      "metadata": {
        "id": "_CF8wYu0tWhH"
      },
      "source": [
        "## Deleting"
      ]
    },
    {
      "cell_type": "markdown",
      "metadata": {
        "id": "bjYzRXv2rB2r"
      },
      "source": [
        "### By Position"
      ]
    },
    {
      "cell_type": "code",
      "execution_count": null,
      "metadata": {
        "id": "ghWSnmzftWhH",
        "colab": {
          "base_uri": "https://localhost:8080/"
        },
        "outputId": "198f815d-a2be-4ff6-f18d-d5d0e2f09c9f"
      },
      "outputs": [
        {
          "output_type": "execute_result",
          "data": {
            "text/plain": [
              "['INCAS', 'Suecia', 'Rusia', 'Inglaterra', 'Senegal', 'BHARAT', 'España']"
            ]
          },
          "metadata": {},
          "execution_count": 177
        }
      ],
      "source": [
        "del countryP[-5] #last value\n",
        "\n",
        "# list changed:\n",
        "countryP"
      ]
    },
    {
      "cell_type": "code",
      "execution_count": null,
      "metadata": {
        "id": "h6UsIzY5tIgY",
        "colab": {
          "base_uri": "https://localhost:8080/"
        },
        "outputId": "433d9850-2b6d-46ba-cb5a-a34a3068ede8"
      },
      "outputs": [
        {
          "output_type": "stream",
          "name": "stdout",
          "text": [
            "[[1]]\n",
            "[1] \"Perú\"\n",
            "\n",
            "[[2]]\n",
            "[1] \"Suecia\"\n",
            "\n",
            "[[3]]\n",
            "[1] \"Rusia\"\n",
            "\n",
            "[[4]]\n",
            "[1] \"nike\"\n",
            "\n",
            "[[5]]\n",
            "[1] \"Inglaterra\"\n",
            "\n",
            "[[6]]\n",
            "[1] \"Senegal\"\n",
            "\n",
            "[[7]]\n",
            "[1] \"Chile\"\n",
            "\n"
          ]
        }
      ],
      "source": [
        "%%R\n",
        "countryR[length(countryR)]=NULL\n",
        "countryR"
      ]
    },
    {
      "cell_type": "code",
      "execution_count": null,
      "metadata": {
        "id": "EVla5Ov2tWhM",
        "colab": {
          "base_uri": "https://localhost:8080/"
        },
        "outputId": "cacc2da7-8d55-4341-9361-989507856b76"
      },
      "outputs": [
        {
          "output_type": "execute_result",
          "data": {
            "text/plain": [
              "[2, 3, 11, 13]"
            ]
          },
          "metadata": {},
          "execution_count": 180
        }
      ],
      "source": [
        "# 'del' works for several positions\n",
        "\n",
        "listP=[2,3,5,7,11,13]\n",
        "del listP[2:4]  #elimino desde posicion 2 hasta uno antes del 4\n",
        "\n",
        "#now:\n",
        "listP"
      ]
    },
    {
      "cell_type": "code",
      "execution_count": null,
      "metadata": {
        "id": "hquozQUutoXe",
        "colab": {
          "base_uri": "https://localhost:8080/"
        },
        "outputId": "6193852c-8732-488d-8540-64b44c39b7ca"
      },
      "outputs": [
        {
          "output_type": "stream",
          "name": "stdout",
          "text": [
            "[[1]]\n",
            "[1] 2\n",
            "\n",
            "[[2]]\n",
            "[1] 3\n",
            "\n",
            "[[3]]\n",
            "[1] 11\n",
            "\n",
            "[[4]]\n",
            "[1] 13\n",
            "\n"
          ]
        }
      ],
      "source": [
        "%%R\n",
        "\n",
        "listR=list(2,3,5,7,9,11,13)\n",
        "listR[3:5]=NULL\n",
        "\n",
        "#now:\n",
        "listR"
      ]
    },
    {
      "cell_type": "code",
      "execution_count": null,
      "metadata": {
        "id": "4Sc0LyKDuJoz",
        "colab": {
          "base_uri": "https://localhost:8080/"
        },
        "outputId": "221e345c-abfa-48b1-c2f0-415d174e84b4"
      },
      "outputs": [
        {
          "output_type": "execute_result",
          "data": {
            "text/plain": [
              "[2, 9, 23]"
            ]
          },
          "metadata": {},
          "execution_count": 183
        }
      ],
      "source": [
        "# non consecutive\n",
        "listP=[2,30,9,22,23,4]\n",
        "byeIndex=[1, 3, 5] #se eliminan no en intervalos sino según el orden puesto\n",
        "listP=[listP[i] for i in range(len(listP)) if not i in byeIndex]\n",
        "listP"
      ]
    },
    {
      "cell_type": "code",
      "execution_count": null,
      "metadata": {
        "id": "A38KkgtGvpdv",
        "colab": {
          "base_uri": "https://localhost:8080/"
        },
        "outputId": "55f045f5-cff1-4aed-c3a5-7addf3576faa"
      },
      "outputs": [
        {
          "output_type": "stream",
          "name": "stdout",
          "text": [
            "[[1]]\n",
            "[1] 30\n",
            "\n",
            "[[2]]\n",
            "[1] 22\n",
            "\n",
            "[[3]]\n",
            "[1] 5\n",
            "\n"
          ]
        }
      ],
      "source": [
        "%%R\n",
        "listR=list(2,30,9,22,23,5)\n",
        "listR[c(1,3,5)]=NULL\n",
        "listR"
      ]
    },
    {
      "cell_type": "markdown",
      "metadata": {
        "id": "rz-SxbVDyI_5"
      },
      "source": [
        "### by Value"
      ]
    },
    {
      "cell_type": "code",
      "execution_count": null,
      "metadata": {
        "id": "kQCwXCw3tWhO",
        "colab": {
          "base_uri": "https://localhost:8080/"
        },
        "outputId": "aaaa9ff7-ee1e-40a9-e932-b9f0905e3efb"
      },
      "outputs": [
        {
          "output_type": "execute_result",
          "data": {
            "text/plain": [
              "[28, 'A', 19, 'G']"
            ]
          },
          "metadata": {},
          "execution_count": 185
        }
      ],
      "source": [
        "# by value\n",
        "listP=[28,'A',19,'G','M']\n",
        "listP.remove('M')\n",
        "\n",
        "# list changed:\n",
        "listP # just first ocurrence of value!!"
      ]
    },
    {
      "cell_type": "code",
      "execution_count": null,
      "metadata": {
        "id": "GUi3v8hqtWhU",
        "colab": {
          "base_uri": "https://localhost:8080/"
        },
        "outputId": "b1598a01-0e10-4ecc-a3bf-e3084784a8c5"
      },
      "outputs": [
        {
          "output_type": "execute_result",
          "data": {
            "text/plain": [
              "[28, 'A', 'L', 'E']"
            ]
          },
          "metadata": {},
          "execution_count": 186
        }
      ],
      "source": [
        "# deleting every  value:\n",
        "\n",
        "listP=[28,'A',22,'L','E']\n",
        "listP=[p for p in listP if not p in [22]]\n",
        "\n",
        "# you get:\n",
        "listP"
      ]
    },
    {
      "cell_type": "code",
      "execution_count": null,
      "metadata": {
        "id": "fSrbGThNzuxk",
        "colab": {
          "base_uri": "https://localhost:8080/"
        },
        "outputId": "60ccffe7-6134-454c-91ca-ee1b23fc3a58"
      },
      "outputs": [
        {
          "output_type": "stream",
          "name": "stdout",
          "text": [
            "[[1]]\n",
            "[1] 19\n",
            "\n",
            "[[2]]\n",
            "[1] 45\n",
            "\n",
            "[[3]]\n",
            "[1] \"AL\"\n",
            "\n",
            "[[4]]\n",
            "[1] \"SC\"\n",
            "\n"
          ]
        }
      ],
      "source": [
        "%%R\n",
        "\n",
        "listR=list(19,'U',45,'AL','SC')\n",
        "listR=listR[!listR %in% list('U')]\n",
        "listR\n"
      ]
    },
    {
      "cell_type": "markdown",
      "metadata": {
        "id": "JzcKbpXptWhX"
      },
      "source": [
        "## Inserting values"
      ]
    },
    {
      "cell_type": "code",
      "execution_count": null,
      "metadata": {
        "id": "or5OmtestWhY",
        "colab": {
          "base_uri": "https://localhost:8080/"
        },
        "outputId": "8f335267-ae84-45b4-ff54-4ba01de1cf41"
      },
      "outputs": [
        {
          "output_type": "execute_result",
          "data": {
            "text/plain": [
              "['PER', 28, 'DIN', 12, 'FRA', 1998, '2018']"
            ]
          },
          "metadata": {},
          "execution_count": 1
        }
      ],
      "source": [
        "# at the end\n",
        "listP=['PER',28,'DIN',12,'FRA',1998]\n",
        "listP.append(\"2018\")\n",
        "listP"
      ]
    },
    {
      "cell_type": "code",
      "execution_count": null,
      "metadata": {
        "colab": {
          "base_uri": "https://localhost:8080/"
        },
        "outputId": "aebd083f-51d8-4e3f-8eb9-0f0c7d734f96",
        "id": "pthD4s7TdhAg"
      },
      "outputs": [
        {
          "output_type": "execute_result",
          "data": {
            "text/plain": [
              "[26, 'SUMMER', 'ENERO']"
            ]
          },
          "metadata": {},
          "execution_count": 4
        }
      ],
      "source": [
        "# at the end\n",
        "listP=[26,'SUMMER']\n",
        "listP.append(\"ENERO\")\n",
        "listP"
      ]
    },
    {
      "cell_type": "code",
      "execution_count": null,
      "metadata": {
        "colab": {
          "base_uri": "https://localhost:8080/"
        },
        "outputId": "ed5d3119-e1aa-46fa-fd31-c39559026ca9",
        "id": "tTuWdl-BdgMS"
      },
      "outputs": [
        {
          "output_type": "execute_result",
          "data": {
            "text/plain": [
              "['PER', 28, 'JULIO']"
            ]
          },
          "metadata": {},
          "execution_count": 5
        }
      ],
      "source": [
        "# at the end\n",
        "listP=['PER',28]\n",
        "listP.append(\"JULIO\")\n",
        "listP"
      ]
    },
    {
      "cell_type": "code",
      "execution_count": null,
      "metadata": {
        "id": "QCiOC5fG3O42",
        "colab": {
          "base_uri": "https://localhost:8080/"
        },
        "outputId": "7e7053c2-67b5-4913-a560-79214998e245"
      },
      "outputs": [
        {
          "output_type": "stream",
          "name": "stdout",
          "text": [
            "[[1]]\n",
            "[1] 22\n",
            "\n",
            "[[2]]\n",
            "[1] \"A\"\n",
            "\n",
            "[[3]]\n",
            "[1] 28\n",
            "\n",
            "[[4]]\n",
            "[1] \"L\"\n",
            "\n",
            "[[5]]\n",
            "[1] \"E\"\n",
            "\n",
            "[[6]]\n",
            "[1] \"RIA\"\n",
            "\n"
          ]
        }
      ],
      "source": [
        "%%R\n",
        "listR=list(22,'A',28,'L','E')\n",
        "listR=append(listR,'RIA')\n",
        "listR"
      ]
    },
    {
      "cell_type": "code",
      "execution_count": null,
      "metadata": {
        "id": "GB4IycLs32Ya",
        "colab": {
          "base_uri": "https://localhost:8080/"
        },
        "outputId": "6a4b00e1-d1fa-4ac5-9cba-33d71c72bbfe"
      },
      "outputs": [
        {
          "output_type": "execute_result",
          "data": {
            "text/plain": [
              "[28, 12, 'A', 'LE', 'R', 'I', 'A']"
            ]
          },
          "metadata": {},
          "execution_count": 9
        }
      ],
      "source": [
        "# specific position\n",
        "listP=[28,12,'A','R','I','A']\n",
        "listP.insert(3,\"LE\")\n",
        "listP"
      ]
    },
    {
      "cell_type": "code",
      "execution_count": null,
      "metadata": {
        "id": "IcP2en363_ii",
        "colab": {
          "base_uri": "https://localhost:8080/"
        },
        "outputId": "9920d268-7dcc-4a6e-b660-9201f10856c1"
      },
      "outputs": [
        {
          "output_type": "stream",
          "name": "stdout",
          "text": [
            "[[1]]\n",
            "[1] 12\n",
            "\n",
            "[[2]]\n",
            "[1] 28\n",
            "\n",
            "[[3]]\n",
            "[1] \"F\"\n",
            "\n",
            "[[4]]\n",
            "[1] \"U\"\n",
            "\n",
            "[[5]]\n",
            "[1] \"G\"\n",
            "\n"
          ]
        }
      ],
      "source": [
        "%%R\n",
        "listR=list(12,28,'U','G')\n",
        "listR=append(listR,'F',after=2)\n",
        "listR"
      ]
    },
    {
      "cell_type": "markdown",
      "metadata": {
        "id": "ceqfkORcK9vt"
      },
      "source": [
        "## Concatenating"
      ]
    },
    {
      "cell_type": "code",
      "execution_count": null,
      "metadata": {
        "id": "4nFczku8K_3k",
        "colab": {
          "base_uri": "https://localhost:8080/"
        },
        "outputId": "7ce92192-7c1d-477b-9fda-7e3b71d182b0"
      },
      "outputs": [
        {
          "output_type": "execute_result",
          "data": {
            "text/plain": [
              "['AL', 'U', 'SC', 28, 19, 7]"
            ]
          },
          "metadata": {},
          "execution_count": 23
        }
      ],
      "source": [
        "listA_P=['AL','U','SC']\n",
        "listB_P=[28, 19, 7]\n",
        "listA_P + listB_P"
      ]
    },
    {
      "cell_type": "code",
      "execution_count": null,
      "metadata": {
        "id": "gvCtdID3bgm-",
        "colab": {
          "base_uri": "https://localhost:8080/"
        },
        "outputId": "f5685f1d-9862-4b2c-ef43-49391f0d3628"
      },
      "outputs": [
        {
          "output_type": "execute_result",
          "data": {
            "text/plain": [
              "['SB', 'MELGAR', 'CIENCIANO', 22, 10, 9]"
            ]
          },
          "metadata": {},
          "execution_count": 24
        }
      ],
      "source": [
        "listA2_P=['SB','MELGAR','CIENCIANO']\n",
        "listB2_P=[22, 10, 9]\n",
        "listA2_P.extend(listB2_P)\n",
        "listA2_P"
      ]
    },
    {
      "cell_type": "code",
      "execution_count": null,
      "metadata": {
        "id": "hajS5MgJLRj9",
        "colab": {
          "base_uri": "https://localhost:8080/"
        },
        "outputId": "d00b9f63-0916-47d2-819a-5156c5ca8d20"
      },
      "outputs": [
        {
          "output_type": "stream",
          "name": "stdout",
          "text": [
            "[[1]]\n",
            "[1] \"MANCHESTER\"\n",
            "\n",
            "[[2]]\n",
            "[1] \"LIVERPOOL\"\n",
            "\n",
            "[[3]]\n",
            "[1] \"REAL MADRID\"\n",
            "\n",
            "[[4]]\n",
            "[1] 10\n",
            "\n",
            "[[5]]\n",
            "[1] 8\n",
            "\n",
            "[[6]]\n",
            "[1] 14\n",
            "\n"
          ]
        }
      ],
      "source": [
        "%%R\n",
        "listA_R=list('MANCHESTER','LIVERPOOL','REAL MADRID')\n",
        "listB_R=list(10, 8 , 14)\n",
        "append(listA_R, listB_R)"
      ]
    },
    {
      "cell_type": "code",
      "execution_count": null,
      "metadata": {
        "id": "buD_S1X6MUje",
        "colab": {
          "base_uri": "https://localhost:8080/"
        },
        "outputId": "44e59edb-a9ad-43c3-8056-e52e328aaaf6"
      },
      "outputs": [
        {
          "output_type": "execute_result",
          "data": {
            "text/plain": [
              "[121, 144, 169, ['UNMSM', 'UNI']]"
            ]
          },
          "metadata": {},
          "execution_count": 26
        }
      ],
      "source": [
        "#notice\n",
        "listA1_P=[121,144,169]\n",
        "listB1_P=['UNMSM', 'UNI']\n",
        "listA1_P.append(listB1_P)\n",
        "listA1_P"
      ]
    },
    {
      "cell_type": "code",
      "execution_count": null,
      "metadata": {
        "id": "MxaH2JXNLggB",
        "colab": {
          "base_uri": "https://localhost:8080/"
        },
        "outputId": "8a5c87b4-17b4-4123-f753-5ce1f0887f1f"
      },
      "outputs": [
        {
          "output_type": "stream",
          "name": "stdout",
          "text": [
            "[[1]]\n",
            "[1] \"MANCHESTER\"\n",
            "\n",
            "[[2]]\n",
            "[1] \"LIVERPOOL\"\n",
            "\n",
            "[[3]]\n",
            "[1] \"REAL MADRID\"\n",
            "\n",
            "[[4]]\n",
            "[1] 10\n",
            "\n",
            "[[5]]\n",
            "[1] 8\n",
            "\n",
            "[[6]]\n",
            "[1] 14\n",
            "\n"
          ]
        }
      ],
      "source": [
        "%%R\n",
        "append(listA_R, listB_R)"
      ]
    }
  ],
  "metadata": {
    "anaconda-cloud": {
      "attach-environment": true,
      "summary": "test"
    },
    "colab": {
      "provenance": [],
      "toc_visible": true
    },
    "hide_input": false,
    "kernelspec": {
      "display_name": "Python 3 (ipykernel)",
      "language": "python",
      "name": "python3"
    },
    "language_info": {
      "codemirror_mode": {
        "name": "ipython",
        "version": 3
      },
      "file_extension": ".py",
      "mimetype": "text/x-python",
      "name": "python",
      "nbconvert_exporter": "python",
      "pygments_lexer": "ipython3",
      "version": "3.12.0"
    }
  },
  "nbformat": 4,
  "nbformat_minor": 0
}