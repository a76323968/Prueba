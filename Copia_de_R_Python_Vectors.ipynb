{
  "cells": [
    {
      "cell_type": "markdown",
      "source": [
        "#Vectors in R and Python-- Alejandro Huaman / 20203800\n"
      ],
      "metadata": {
        "id": "HhIa-XQ_j5xr"
      }
    },
    {
      "cell_type": "code",
      "execution_count": null,
      "metadata": {
        "id": "wZ3XygXqJm2F"
      },
      "outputs": [],
      "source": [
        "## if needed, run this and RESTART KERNEL\n",
        "# import os\n",
        "# os.environ['R_HOME'] ='/Library/Frameworks/R.framework/Resources'"
      ]
    },
    {
      "cell_type": "code",
      "execution_count": null,
      "metadata": {
        "id": "oo3FOXWP6ewM"
      },
      "outputs": [],
      "source": [
        "%load_ext rpy2.ipython"
      ]
    },
    {
      "cell_type": "markdown",
      "metadata": {
        "id": "ix7xtYzM7GsE"
      },
      "source": [
        "## 1. Creating"
      ]
    },
    {
      "cell_type": "code",
      "execution_count": null,
      "metadata": {
        "id": "GHJeUsWetWgm"
      },
      "outputs": [],
      "source": [
        "import numpy as np\n",
        "\n",
        "namesP=np.array([\"Gloria\", \"Wilhelm\", \"Natasha\", \"Rafael\",\"Harry\",\"Sadio\",\"Rajesh\",\"Carlos\"])\n",
        "agesP=np.array([20,17,30,25,29,30,35,70])\n",
        "countryP=np.array([\"Perú\", \"Suecia\", \"Rusia\", \"Colombia\",\"Inglaterra\",\"Senegal\",\"India\",\"España\"])\n",
        "civil_estatusP=np.array([\"Casada\", \"Soltero\", \"Soltero\", \"Casado\",\"Viudo\", \"Casado\",\"Soltero\",\"Casado\"])"
      ]
    },
    {
      "cell_type": "code",
      "execution_count": null,
      "metadata": {
        "id": "bYQ8wWNQ6rSt",
        "colab": {
          "base_uri": "https://localhost:8080/"
        },
        "outputId": "8289923c-8d7f-4709-8c1b-f22583cd4aff"
      },
      "outputs": [
        {
          "output_type": "execute_result",
          "data": {
            "text/plain": [
              "['Gloria',\n",
              " 'Wilhelm',\n",
              " 'Natasha',\n",
              " 'Rafael',\n",
              " 'Harry',\n",
              " 'Sadio',\n",
              " 'Rajesh',\n",
              " 'Carlos']"
            ]
          },
          "metadata": {},
          "execution_count": 7
        }
      ],
      "source": [
        "namesP"
      ]
    },
    {
      "cell_type": "code",
      "execution_count": null,
      "metadata": {
        "id": "dUxYQK6F5lks"
      },
      "outputs": [],
      "source": [
        "%%R\n",
        "namesR=list(\"Gloria\", \"Wilhem\", \"Natasha\", \"Rafael\",\"Harry\",\"Sadio\",\"Rajesh\",\"Carlos\")\n",
        "agesR=list(20,17,30,25,29,30,35,70)\n",
        "countryR=list(\"Perú\", \"Suecia\", \"Rusia\", \"Colombia\",\"Inglaterra\",\"Senegal\",\"India\",\"España\")\n",
        "civil_estatusR=list(\"Casada\", \"Soltero\", \"Soltero\", \"Casado\",\"Viudo\", \"Casado\",\"Soltero\",\"Casado\")"
      ]
    },
    {
      "cell_type": "code",
      "execution_count": null,
      "metadata": {
        "id": "9h7K4xpm6lzE",
        "colab": {
          "base_uri": "https://localhost:8080/"
        },
        "outputId": "844990f8-98b8-4feb-f70e-ef001f84762c"
      },
      "outputs": [
        {
          "output_type": "stream",
          "name": "stdout",
          "text": [
            "[[1]]\n",
            "[1] \"Gloria\"\n",
            "\n",
            "[[2]]\n",
            "[1] \"Wilhem\"\n",
            "\n",
            "[[3]]\n",
            "[1] \"Natasha\"\n",
            "\n",
            "[[4]]\n",
            "[1] \"Rafael\"\n",
            "\n",
            "[[5]]\n",
            "[1] \"Harry\"\n",
            "\n",
            "[[6]]\n",
            "[1] \"Sadio\"\n",
            "\n",
            "[[7]]\n",
            "[1] \"Rajesh\"\n",
            "\n",
            "[[8]]\n",
            "[1] \"Carlos\"\n",
            "\n"
          ]
        }
      ],
      "source": [
        "%%R\n",
        "namesR"
      ]
    },
    {
      "cell_type": "markdown",
      "metadata": {
        "id": "_y7hce_8tWgr"
      },
      "source": [
        "## 2. Accessing"
      ]
    },
    {
      "cell_type": "code",
      "execution_count": null,
      "metadata": {
        "id": "Hp4CogsCtWgr",
        "colab": {
          "base_uri": "https://localhost:8080/"
        },
        "outputId": "7fabac69-4c49-44b9-ad39-b049151cbeda"
      },
      "outputs": [
        {
          "output_type": "execute_result",
          "data": {
            "text/plain": [
              "30"
            ]
          },
          "metadata": {},
          "execution_count": 17
        }
      ],
      "source": [
        "# Keep in mind the positions in Python start in **0**.\n",
        "agesP[2]"
      ]
    },
    {
      "cell_type": "code",
      "execution_count": null,
      "metadata": {
        "id": "bZalkSyg7ozY",
        "colab": {
          "base_uri": "https://localhost:8080/"
        },
        "outputId": "595d8068-93dc-47d0-f658-e49244db31f1"
      },
      "outputs": [
        {
          "output_type": "stream",
          "name": "stdout",
          "text": [
            "[[1]]\n",
            "[1] 30\n",
            "\n"
          ]
        }
      ],
      "source": [
        "%%R\n",
        "agesR[3]"
      ]
    },
    {
      "cell_type": "code",
      "execution_count": null,
      "metadata": {
        "id": "MuQtAvsH-rJw",
        "colab": {
          "base_uri": "https://localhost:8080/",
          "height": 35
        },
        "outputId": "fdaa6724-e6ff-4d1a-e66a-f3523bbb91a2"
      },
      "outputs": [
        {
          "output_type": "execute_result",
          "data": {
            "text/plain": [
              "'Inglaterra'"
            ],
            "application/vnd.google.colaboratory.intrinsic+json": {
              "type": "string"
            }
          },
          "metadata": {},
          "execution_count": 15
        }
      ],
      "source": [
        "#last element\n",
        "countryP[-4]"
      ]
    },
    {
      "cell_type": "code",
      "execution_count": null,
      "metadata": {
        "id": "Ffzl7qci-yzx",
        "colab": {
          "base_uri": "https://localhost:8080/"
        },
        "outputId": "1004e787-5704-45ef-884a-6e2e341836f7"
      },
      "outputs": [
        {
          "output_type": "stream",
          "name": "stdout",
          "text": [
            "[[1]]\n",
            "[1] \"India\"\n",
            "\n",
            "[[2]]\n",
            "[1] \"España\"\n",
            "\n"
          ]
        }
      ],
      "source": [
        "%%R\n",
        "tail(countryR,2)"
      ]
    },
    {
      "cell_type": "markdown",
      "metadata": {
        "id": "hAq14dMo8TnG"
      },
      "source": [
        "### Slices"
      ]
    },
    {
      "cell_type": "code",
      "execution_count": null,
      "metadata": {
        "id": "pa7c_1M1tWgv",
        "colab": {
          "base_uri": "https://localhost:8080/"
        },
        "outputId": "ef96c4e3-232d-471c-9a0e-893ce3124fee"
      },
      "outputs": [
        {
          "output_type": "execute_result",
          "data": {
            "text/plain": [
              "[20, 17, 30, 25]"
            ]
          },
          "metadata": {},
          "execution_count": 19
        }
      ],
      "source": [
        "# several, using slices:\n",
        "agesP[0:4] #first to fourth"
      ]
    },
    {
      "cell_type": "code",
      "execution_count": null,
      "metadata": {
        "id": "AF942YnF8yc9",
        "colab": {
          "base_uri": "https://localhost:8080/"
        },
        "outputId": "ac9706ba-7291-4ff6-8b9d-b1db72f08df2"
      },
      "outputs": [
        {
          "output_type": "stream",
          "name": "stdout",
          "text": [
            "[[1]]\n",
            "[1] 20\n",
            "\n",
            "[[2]]\n",
            "[1] 17\n",
            "\n",
            "[[3]]\n",
            "[1] 30\n",
            "\n",
            "[[4]]\n",
            "[1] 25\n",
            "\n",
            "[[5]]\n",
            "[1] 29\n",
            "\n"
          ]
        }
      ],
      "source": [
        "%%R\n",
        "agesR[1:5]"
      ]
    },
    {
      "cell_type": "code",
      "execution_count": null,
      "metadata": {
        "id": "p8h88eUjtWg1",
        "colab": {
          "base_uri": "https://localhost:8080/"
        },
        "outputId": "82ebe219-57df-4047-8c8b-0582ad3423f9"
      },
      "outputs": [
        {
          "output_type": "execute_result",
          "data": {
            "text/plain": [
              "array([17, 25, 30])"
            ]
          },
          "metadata": {},
          "execution_count": 11
        }
      ],
      "source": [
        "# non consecutive\n",
        "\n",
        "agesP[[1,3,5]]"
      ]
    },
    {
      "cell_type": "code",
      "execution_count": null,
      "metadata": {
        "id": "c8RpFx1dAEmz",
        "colab": {
          "base_uri": "https://localhost:8080/"
        },
        "outputId": "e7473157-eff2-4249-b63f-f5e40954efe0"
      },
      "outputs": [
        {
          "output_type": "stream",
          "name": "stdout",
          "text": [
            "[[1]]\n",
            "[1] 17\n",
            "\n",
            "[[2]]\n",
            "[1] 25\n",
            "\n",
            "[[3]]\n",
            "[1] 30\n",
            "\n"
          ]
        }
      ],
      "source": [
        "%%R\n",
        "agesR[c(2,4,6)]"
      ]
    },
    {
      "cell_type": "markdown",
      "metadata": {
        "id": "3HdLpDektWg6"
      },
      "source": [
        "## Replacing"
      ]
    },
    {
      "cell_type": "markdown",
      "metadata": {
        "id": "W9tJhxjeBMyX"
      },
      "source": [
        "### by Position"
      ]
    },
    {
      "cell_type": "code",
      "execution_count": null,
      "metadata": {
        "id": "Q5mtP1j8tWg7",
        "colab": {
          "base_uri": "https://localhost:8080/"
        },
        "outputId": "f4b604f2-741b-4a45-e938-9de2b4419465"
      },
      "outputs": [
        {
          "output_type": "execute_result",
          "data": {
            "text/plain": [
              "['Perú',\n",
              " 'Suecia',\n",
              " 'Rusia',\n",
              " 'Colombia',\n",
              " 'Inglaterra',\n",
              " 'Senegal',\n",
              " 'Bharat',\n",
              " 'España']"
            ]
          },
          "metadata": {},
          "execution_count": 32
        }
      ],
      "source": [
        "countryP[6]=\"Bharat\"\n",
        "\n",
        "# list changed:\n",
        "countryP"
      ]
    },
    {
      "cell_type": "code",
      "execution_count": null,
      "metadata": {
        "id": "Bq1cr1VPBRJz",
        "colab": {
          "base_uri": "https://localhost:8080/"
        },
        "outputId": "5d209921-8e9e-45ae-9f91-c5fd65870e43"
      },
      "outputs": [
        {
          "output_type": "stream",
          "name": "stdout",
          "text": [
            "[[1]]\n",
            "[1] \"Perú\"\n",
            "\n",
            "[[2]]\n",
            "[1] \"Suecia\"\n",
            "\n",
            "[[3]]\n",
            "[1] \"Rusia\"\n",
            "\n",
            "[[4]]\n",
            "[1] \"Colombia\"\n",
            "\n",
            "[[5]]\n",
            "[1] \"Inglaterra\"\n",
            "\n",
            "[[6]]\n",
            "[1] \"Senegal\"\n",
            "\n",
            "[[7]]\n",
            "[1] \"Bharat\"\n",
            "\n",
            "[[8]]\n",
            "[1] \"España\"\n",
            "\n"
          ]
        }
      ],
      "source": [
        "%%R\n",
        "countryR[7]=\"Bharat\"\n",
        "\n",
        "# list changed:\n",
        "countryR"
      ]
    },
    {
      "cell_type": "markdown",
      "metadata": {
        "id": "i3KudD3Don96"
      },
      "source": [
        "### By Value"
      ]
    },
    {
      "cell_type": "code",
      "execution_count": null,
      "metadata": {
        "id": "Nf9PJWMjqiNI",
        "colab": {
          "base_uri": "https://localhost:8080/"
        },
        "outputId": "1031bac0-6c98-4cf8-d5e3-1a565c0ffe42"
      },
      "outputs": [
        {
          "output_type": "execute_result",
          "data": {
            "text/plain": [
              "array(['Holanda', 'Suecia', 'Rusia', 'Colombia', 'Inglaterra', 'Senegal',\n",
              "       'India', 'España'], dtype='<U10')"
            ]
          },
          "metadata": {},
          "execution_count": 13
        }
      ],
      "source": [
        "countryP[countryP=='Perú']=\"Holanda\"\n",
        "countryP"
      ]
    },
    {
      "cell_type": "code",
      "execution_count": null,
      "metadata": {
        "id": "ZozgXyECpjy2",
        "colab": {
          "base_uri": "https://localhost:8080/"
        },
        "outputId": "6523d51f-5487-440e-a15d-dd060dc272eb"
      },
      "outputs": [
        {
          "output_type": "stream",
          "name": "stdout",
          "text": [
            "[[1]]\n",
            "[1] \"INCAS\"\n",
            "\n",
            "[[2]]\n",
            "[1] \"Suecia\"\n",
            "\n",
            "[[3]]\n",
            "[1] \"Rusia\"\n",
            "\n",
            "[[4]]\n",
            "[1] \"Colombia\"\n",
            "\n",
            "[[5]]\n",
            "[1] \"Inglaterra\"\n",
            "\n",
            "[[6]]\n",
            "[1] \"Senegal\"\n",
            "\n",
            "[[7]]\n",
            "[1] \"India\"\n",
            "\n",
            "[[8]]\n",
            "[1] \"España\"\n",
            "\n"
          ]
        }
      ],
      "source": [
        "%%R\n",
        "countryR[countryR=='Perú']=\"INCAS\"\n",
        "countryR"
      ]
    },
    {
      "cell_type": "markdown",
      "metadata": {
        "id": "_CF8wYu0tWhH"
      },
      "source": [
        "## Deleting"
      ]
    },
    {
      "cell_type": "markdown",
      "metadata": {
        "id": "bjYzRXv2rB2r"
      },
      "source": [
        "### By Position"
      ]
    },
    {
      "cell_type": "code",
      "execution_count": null,
      "metadata": {
        "id": "ghWSnmzftWhH",
        "colab": {
          "base_uri": "https://localhost:8080/"
        },
        "outputId": "752f5c00-7a16-4490-d9b5-413748bdde28"
      },
      "outputs": [
        {
          "output_type": "execute_result",
          "data": {
            "text/plain": [
              "array(['Perú', 'Suecia', 'Rusia', 'Colombia', 'Inglaterra', 'India',\n",
              "       'España'], dtype='<U10')"
            ]
          },
          "metadata": {},
          "execution_count": 20
        }
      ],
      "source": [
        "countryP=np.delete(countryP,-3)\n",
        "countryP"
      ]
    },
    {
      "cell_type": "code",
      "execution_count": null,
      "metadata": {
        "id": "h6UsIzY5tIgY",
        "colab": {
          "base_uri": "https://localhost:8080/"
        },
        "outputId": "59622728-a82f-44ea-ea57-5b19c1852f10"
      },
      "outputs": [
        {
          "output_type": "stream",
          "name": "stdout",
          "text": [
            "[[1]]\n",
            "[1] \"INCAS\"\n",
            "\n",
            "[[2]]\n",
            "[1] \"Suecia\"\n",
            "\n",
            "[[3]]\n",
            "[1] \"Rusia\"\n",
            "\n",
            "[[4]]\n",
            "[1] \"Colombia\"\n",
            "\n",
            "[[5]]\n",
            "[1] \"Inglaterra\"\n",
            "\n",
            "[[6]]\n",
            "[1] \"Senegal\"\n",
            "\n",
            "[[7]]\n",
            "[1] \"India\"\n",
            "\n"
          ]
        }
      ],
      "source": [
        "%%R\n",
        "countryR=countryR[-length(countryR)]\n",
        "countryR"
      ]
    },
    {
      "cell_type": "code",
      "execution_count": null,
      "metadata": {
        "id": "EVla5Ov2tWhM",
        "colab": {
          "base_uri": "https://localhost:8080/"
        },
        "outputId": "102c774f-72e2-493b-f9ed-33cf8f787d84"
      },
      "outputs": [
        {
          "output_type": "execute_result",
          "data": {
            "text/plain": [
              "array([  11,   22,   33, 1313])"
            ]
          },
          "metadata": {},
          "execution_count": 24
        }
      ],
      "source": [
        "# for several positions\n",
        "\n",
        "vectorP=np.array([11,22,33,55,88,1313])\n",
        "vectorP=np.delete(vectorP,range(3,5))\n",
        "#now:\n",
        "vectorP"
      ]
    },
    {
      "cell_type": "code",
      "execution_count": null,
      "metadata": {
        "id": "hquozQUutoXe",
        "colab": {
          "base_uri": "https://localhost:8080/"
        },
        "outputId": "7597e4bd-3942-46ba-d1d9-3331f567c874"
      },
      "outputs": [
        {
          "output_type": "stream",
          "name": "stdout",
          "text": [
            "[1] 20 60 70\n"
          ]
        }
      ],
      "source": [
        "%%R\n",
        "\n",
        "vectorR=c(20,30,40,50,60,70)\n",
        "vectorR=vectorR[-c(2:4)]\n",
        "\n",
        "#now:\n",
        "vectorR"
      ]
    },
    {
      "cell_type": "code",
      "execution_count": null,
      "metadata": {
        "id": "4Sc0LyKDuJoz"
      },
      "outputs": [],
      "source": [
        "# non consecutive\n",
        "byeIndex=[1, 3, 5]\n",
        "\n",
        "vectorP=np.array([11,22,33,44,55,66])\n",
        "new_vectorP=np.delete(vectorP,byeIndex)\n",
        "\n",
        "#now:\n",
        "new_vectorP"
      ]
    },
    {
      "cell_type": "code",
      "execution_count": null,
      "metadata": {
        "id": "A38KkgtGvpdv"
      },
      "outputs": [],
      "source": [
        "%%R\n",
        "vectorR=c(11,22,33,44,55,66)\n",
        "new_vectorR=vectorR[-c(2,4,6)]\n",
        "new_vectorR"
      ]
    },
    {
      "cell_type": "markdown",
      "metadata": {
        "id": "rz-SxbVDyI_5"
      },
      "source": [
        "### by Value"
      ]
    },
    {
      "cell_type": "code",
      "execution_count": null,
      "metadata": {
        "id": "kQCwXCw3tWhO",
        "colab": {
          "base_uri": "https://localhost:8080/"
        },
        "outputId": "f24a70c6-8f15-4532-a53f-550d4187c45e"
      },
      "outputs": [
        {
          "output_type": "execute_result",
          "data": {
            "text/plain": [
              "array([   1, 2024,   28,   12])"
            ]
          },
          "metadata": {},
          "execution_count": 27
        }
      ],
      "source": [
        "# by value\n",
        "vectorP=np.array([25,1,2024,28,12])\n",
        "\n",
        "vectorP=np.delete(vectorP, np.where(vectorP == 25))\n",
        "\n",
        "#  changed:\n",
        "vectorP"
      ]
    },
    {
      "cell_type": "code",
      "execution_count": null,
      "metadata": {
        "id": "fSrbGThNzuxk",
        "colab": {
          "base_uri": "https://localhost:8080/"
        },
        "outputId": "bb9cf0a5-0596-47a7-bdca-820d8b5161d6"
      },
      "outputs": [
        {
          "output_type": "stream",
          "name": "stdout",
          "text": [
            "[1]   1   8  27 125\n"
          ]
        }
      ],
      "source": [
        "%%R\n",
        "\n",
        "vectorR=c(1,8,27,64,125)\n",
        "vectorR=vectorR[vectorR!=64]\n",
        "vectorR\n"
      ]
    },
    {
      "cell_type": "code",
      "execution_count": null,
      "metadata": {
        "id": "JbW-UmIBKLpI",
        "colab": {
          "base_uri": "https://localhost:8080/"
        },
        "outputId": "a9966246-4bf8-486a-c421-f31cd3a1a247"
      },
      "outputs": [
        {
          "output_type": "execute_result",
          "data": {
            "text/plain": [
              "array([2014, 2015, 2016])"
            ]
          },
          "metadata": {},
          "execution_count": 29
        }
      ],
      "source": [
        "# by value\n",
        "vectorP=np.array([2010,2014,2015,2016,2018])\n",
        "\n",
        "#vectorP=\n",
        "vectorP=np.delete(vectorP, np.isin(vectorP,[2010,2018]))\n",
        "\n",
        "#  changed:\n",
        "vectorP"
      ]
    },
    {
      "cell_type": "code",
      "execution_count": null,
      "metadata": {
        "id": "uZaUCzb_MWpy",
        "colab": {
          "base_uri": "https://localhost:8080/"
        },
        "outputId": "91abf6b1-0d1d-4203-e7e3-8b2741857c6c"
      },
      "outputs": [
        {
          "output_type": "stream",
          "name": "stdout",
          "text": [
            "[1] 8 1 4\n"
          ]
        }
      ],
      "source": [
        "%%R\n",
        "\n",
        "vectorR=c(8,3,5,1,4)\n",
        "vectorR=vectorR[!vectorR%in%c(3,5)]\n",
        "vectorR"
      ]
    },
    {
      "cell_type": "markdown",
      "metadata": {
        "id": "JzcKbpXptWhX"
      },
      "source": [
        "## Inserting values"
      ]
    },
    {
      "cell_type": "markdown",
      "metadata": {
        "id": "hVd3ie7Azqz8"
      },
      "source": [
        "### at the End"
      ]
    },
    {
      "cell_type": "code",
      "execution_count": null,
      "metadata": {
        "id": "or5OmtestWhY",
        "colab": {
          "base_uri": "https://localhost:8080/"
        },
        "outputId": "cb752215-9406-4b99-df3f-60aad253495c"
      },
      "outputs": [
        {
          "output_type": "execute_result",
          "data": {
            "text/plain": [
              "array([39,  2,  3,  4,  1])"
            ]
          },
          "metadata": {},
          "execution_count": 34
        }
      ],
      "source": [
        "vectorP=np.array([39,2,3,4])\n",
        "vectorP=np.append(vectorP,1)\n",
        "vectorP"
      ]
    },
    {
      "cell_type": "code",
      "execution_count": null,
      "metadata": {
        "id": "QCiOC5fG3O42",
        "colab": {
          "base_uri": "https://localhost:8080/"
        },
        "outputId": "1ed2d7d7-2d27-4478-fc19-5743df3c12db"
      },
      "outputs": [
        {
          "output_type": "stream",
          "name": "stdout",
          "text": [
            "[1]   43   56   78   91 2014\n"
          ]
        }
      ],
      "source": [
        "%%R\n",
        "vectorR=c(43,56,78,91)\n",
        "vectorR=c(vectorR,2014)\n",
        "vectorR"
      ]
    },
    {
      "cell_type": "markdown",
      "metadata": {
        "id": "O5b9vQ2Bz00B"
      },
      "source": [
        "### in a particular location"
      ]
    },
    {
      "cell_type": "code",
      "execution_count": null,
      "metadata": {
        "id": "GB4IycLs32Ya",
        "colab": {
          "base_uri": "https://localhost:8080/"
        },
        "outputId": "ac1bed97-2777-401e-a69e-ee3d4b73be7b"
      },
      "outputs": [
        {
          "output_type": "execute_result",
          "data": {
            "text/plain": [
              "array([34, 54, 65, 45, 98])"
            ]
          },
          "metadata": {},
          "execution_count": 36
        }
      ],
      "source": [
        "vectorP=np.array([34,54,65,98])\n",
        "vectorP=np.insert(vectorP,obj=3,values=45) #obj is position\n",
        "vectorP"
      ]
    },
    {
      "cell_type": "code",
      "execution_count": null,
      "metadata": {
        "id": "IcP2en363_ii",
        "colab": {
          "base_uri": "https://localhost:8080/"
        },
        "outputId": "79e8bd70-5251-45c6-d56b-10c1e6ebe8a6"
      },
      "outputs": [
        {
          "output_type": "stream",
          "name": "stdout",
          "text": [
            "[1]   4   8 360  13  72\n"
          ]
        }
      ],
      "source": [
        "%%R\n",
        "vectorR=c(4,8,13,72)\n",
        "vectorR=append(vectorR,360,after=2)\n",
        "vectorR"
      ]
    },
    {
      "cell_type": "markdown",
      "metadata": {
        "id": "q6kyjfjmcYOe"
      },
      "source": [
        "## Concatenating"
      ]
    },
    {
      "cell_type": "code",
      "execution_count": null,
      "metadata": {
        "id": "qheKebwLca3H",
        "colab": {
          "base_uri": "https://localhost:8080/"
        },
        "outputId": "29af806a-1cf0-41e6-aa75-c2b90822e6bf"
      },
      "outputs": [
        {
          "output_type": "execute_result",
          "data": {
            "text/plain": [
              "array(['31', '42', '54', '86', 'A', 'G'], dtype='<U21')"
            ]
          },
          "metadata": {},
          "execution_count": 38
        }
      ],
      "source": [
        "import numpy as np\n",
        "\n",
        "vectorP1=np.array([31,42,54,86])\n",
        "vectorP2=np.array(['A','G'])\n",
        "vectorP12=np.concatenate((vectorP1,vectorP2))\n",
        "vectorP12"
      ]
    },
    {
      "cell_type": "code",
      "execution_count": null,
      "metadata": {
        "id": "UmLUsWXwcvdM",
        "colab": {
          "base_uri": "https://localhost:8080/"
        },
        "outputId": "c49015ab-082f-43ee-c682-aeb4dd3ee4a5"
      },
      "outputs": [
        {
          "output_type": "stream",
          "name": "stdout",
          "text": [
            "[1] \"4\"  \"24\" \"64\" \"84\" \"G\"  \"F\" \n"
          ]
        }
      ],
      "source": [
        "%%R\n",
        "vectorR1=c(4,24,64,84)\n",
        "vectorR2=c('G','F')\n",
        "vectorR12=c(vectorR1,vectorR2)\n",
        "vectorR12"
      ]
    },
    {
      "cell_type": "markdown",
      "metadata": {
        "id": "FQ6xriaGePFM"
      },
      "source": [
        "Remember that vectors support just one data type, and coercion will activate when different data types are detected."
      ]
    },
    {
      "cell_type": "code",
      "execution_count": null,
      "metadata": {
        "id": "Ef6zopFhXpgY",
        "colab": {
          "base_uri": "https://localhost:8080/"
        },
        "outputId": "7596738b-fc0e-4a08-850f-38810794d358"
      },
      "outputs": [
        {
          "output_type": "execute_result",
          "data": {
            "text/plain": [
              "array(['23', '11', '78', '28', 'LUV'], dtype='<U21')"
            ]
          },
          "metadata": {},
          "execution_count": 40
        }
      ],
      "source": [
        "vectorP1=np.array([23,11,78,28,\"LUV\"])\n",
        "vectorP1"
      ]
    },
    {
      "cell_type": "code",
      "execution_count": null,
      "metadata": {
        "id": "qF3_i7jFX8gf",
        "colab": {
          "base_uri": "https://localhost:8080/"
        },
        "outputId": "0936a256-7386-4ed0-dd8a-5ea9f79f7706"
      },
      "outputs": [
        {
          "output_type": "stream",
          "name": "stdout",
          "text": [
            "[1] \"28\"     \"12\"     \"20\"     \"ALORIA\"\n"
          ]
        }
      ],
      "source": [
        "%%R\n",
        "vectorR1=c(28,12,20,\"ALORIA\")\n",
        "vectorR1"
      ]
    }
  ],
  "metadata": {
    "anaconda-cloud": {
      "attach-environment": true,
      "summary": "test"
    },
    "colab": {
      "provenance": []
    },
    "hide_input": false,
    "kernelspec": {
      "display_name": "Python 3 (ipykernel)",
      "language": "python",
      "name": "python3"
    },
    "language_info": {
      "codemirror_mode": {
        "name": "ipython",
        "version": 3
      },
      "file_extension": ".py",
      "mimetype": "text/x-python",
      "name": "python",
      "nbconvert_exporter": "python",
      "pygments_lexer": "ipython3",
      "version": "3.12.0"
    }
  },
  "nbformat": 4,
  "nbformat_minor": 0
}